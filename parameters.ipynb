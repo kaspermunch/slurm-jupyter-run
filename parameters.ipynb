{
 "cells": [
  {
   "cell_type": "markdown",
   "metadata": {},
   "source": [
    "# Parameters to pass to execution of separate notebooks\n",
    "\n",
    "The notebook below provide parameters for two separate analyses."
   ]
  },
  {
   "cell_type": "markdown",
   "metadata": {},
   "source": [
    "## Normal analysis\n",
    "\n",
    "This is the normal analysis."
   ]
  },
  {
   "cell_type": "markdown",
   "metadata": {},
   "source": [
    "The cell in \"raw\" format below has a single word on a single line. This provides the suffix for the executed notebook. If you do not provide a raw cell for each parameter set, the suffixes will just be numbers. Below the raw cell is a single cell that is injected into the top of the executed notebook."
   ]
  },
  {
   "cell_type": "raw",
   "metadata": {},
   "source": [
    "normal"
   ]
  },
  {
   "cell_type": "code",
   "execution_count": 1,
   "metadata": {},
   "outputs": [],
   "source": [
    "name = 'Banana'"
   ]
  },
  {
   "cell_type": "markdown",
   "metadata": {},
   "source": [
    "## Big analysis\n",
    "\n",
    "This is the normal analysis. The two cells below work the same as the ones above."
   ]
  },
  {
   "cell_type": "raw",
   "metadata": {},
   "source": [
    "big"
   ]
  },
  {
   "cell_type": "code",
   "execution_count": null,
   "metadata": {},
   "outputs": [],
   "source": [
    "name = \"Ananas\""
   ]
  },
  {
   "cell_type": "markdown",
   "metadata": {},
   "source": [
    "So running this command:\n",
    "\n",
    "    python slurm-jupyter-run.py --parameters parameters.ipynb notebook1.ipynb notebook2.ipynb \n",
    "    \n",
    "will procude a new folder for each executed notebook. Each folder holds an executed notebook for each set of parameters given above. So a file tree like this:\n",
    "\n",
    "    ├── notebook1\n",
    "    │   ├── notebook1_big.ipynb\n",
    "    │   └── notebook1_normal.ipynb\n",
    "    ├── notebook2\n",
    "    │   ├── notebook2_big.ipynb\n",
    "    │   └── notebook2_normal.ipynb"
   ]
  }
 ],
 "metadata": {
  "kernelspec": {
   "display_name": "Python 3.6.9 64-bit ('hotspots': conda)",
   "language": "python",
   "name": "python36964bithotspotscondaec632ff444494f4baa3592b4c2769daf"
  },
  "language_info": {
   "codemirror_mode": {
    "name": "ipython",
    "version": 3
   },
   "file_extension": ".py",
   "mimetype": "text/x-python",
   "name": "python",
   "nbconvert_exporter": "python",
   "pygments_lexer": "ipython3",
   "version": "3.6.9"
  }
 },
 "nbformat": 4,
 "nbformat_minor": 4
}
